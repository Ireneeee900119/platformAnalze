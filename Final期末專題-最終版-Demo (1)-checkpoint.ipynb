{
 "cells": [
  {
   "cell_type": "code",
   "execution_count": 1,
   "metadata": {
    "id": "gHgNh_d7GUi9",
    "outputId": "b8871381-93e7-48d3-fa25-5f95eb69717d",
    "scrolled": true
   },
   "outputs": [
    {
     "name": "stdout",
     "output_type": "stream",
     "text": [
      "Requirement already up-to-date: pymongo in c:\\anaconda3\\envs\\py38\\lib\\site-packages (4.0.1)\n",
      "Requirement already up-to-date: requests in c:\\anaconda3\\envs\\py38\\lib\\site-packages (2.27.1)\n",
      "Requirement already satisfied, skipping upgrade: urllib3<1.27,>=1.21.1 in c:\\anaconda3\\envs\\py38\\lib\\site-packages (from requests) (1.26.7)\n",
      "Requirement already satisfied, skipping upgrade: charset-normalizer~=2.0.0; python_version >= \"3\" in c:\\anaconda3\\envs\\py38\\lib\\site-packages (from requests) (2.0.7)\n",
      "Requirement already satisfied, skipping upgrade: certifi>=2017.4.17 in c:\\anaconda3\\envs\\py38\\lib\\site-packages (from requests) (2020.6.20)\n",
      "Requirement already satisfied, skipping upgrade: idna<4,>=2.5; python_version >= \"3\" in c:\\anaconda3\\envs\\py38\\lib\\site-packages (from requests) (2.10)\n"
     ]
    }
   ],
   "source": [
    "!pip install -U pymongo\n",
    "!pip install -U requests"
   ]
  },
  {
   "cell_type": "code",
   "execution_count": 2,
   "metadata": {
    "id": "QnkljNhoGUjC",
    "outputId": "4b1a66d4-2171-41d2-b9cd-b3e74568f730",
    "scrolled": true
   },
   "outputs": [
    {
     "name": "stdout",
     "output_type": "stream",
     "text": [
      "【現在時間】2022/01/11 11:13:13\n",
      "【所在目錄】d:\\me\\大三上\\資料工程\n",
      "【主機名稱】LAPTOP-E5GOVR0V (192.168.18.16)\n",
      "【Python】3.8.5\n",
      "【pymongo】4.0.1\n"
     ]
    },
    {
     "data": {
      "application/javascript": [
       "IPython.notebook.set_autosave_interval(120000)"
      ]
     },
     "metadata": {},
     "output_type": "display_data"
    },
    {
     "name": "stdout",
     "output_type": "stream",
     "text": [
      "Autosaving every 120 seconds\n"
     ]
    }
   ],
   "source": [
    "# coding=utf-8\n",
    "from platform import python_version\n",
    "import os, time, socket, datetime\n",
    "import pandas as pd\n",
    "import pymongo\n",
    "import glob\n",
    "import re\n",
    "import csv\n",
    "\n",
    "from pymongo.database import Database\n",
    "from pprint import pprint\n",
    "from bs4 import BeautifulSoup\n",
    "from pymongo import MongoClient\n",
    "\n",
    "import requests, json\n",
    "import numpy as np\n",
    "import matplotlib.pyplot as plt\n",
    "from matplotlib.font_manager import FontProperties\n",
    "from IPython.display import clear_output\n",
    "\n",
    "print(\"【現在時間】{}\".format(time.strftime(\"%Y/%m/%d %H:%M:%S\")))\n",
    "print(\"【所在目錄】{}\".format(os.getcwd()))\n",
    "print(\"【主機名稱】{} ({})\".format(socket.gethostname(),socket.gethostbyname(socket.gethostname())))\n",
    "print(\"【Python】{}\".format(python_version()))\n",
    "print(\"【pymongo】{}\".format(pymongo.__version__))\n",
    "\n",
    "%autosave 120"
   ]
  },
  {
   "cell_type": "markdown",
   "metadata": {
    "id": "2aiOlDKgGUjD"
   },
   "source": [
    "### 連主機"
   ]
  },
  {
   "cell_type": "code",
   "execution_count": null,
   "metadata": {
    "id": "dFp1FDQfGUjF"
   },
   "outputs": [],
   "source": [
    "client = pymongo.MongoClient(host=\"localhost\", port=27017, username=\"tina\", password=\"0000\")"
   ]
  },
  {
   "cell_type": "markdown",
   "metadata": {
    "id": "jfiWZlCnGUjG"
   },
   "source": [
    "### 爬蟲：PChome"
   ]
  },
  {
   "cell_type": "code",
   "execution_count": 6,
   "metadata": {
    "id": "09s7m9NkGUjH"
   },
   "outputs": [],
   "source": [
    "def pchome(product, db , dbname1C):\n",
    "    db.create_collection(dbname1C)\n",
    "    pages=100\n",
    "    for page in range(1,pages+1):\n",
    "        url =\"https://ecshweb.pchome.com.tw/search/v3.3/all/results?q={}&page={}&sort=sale/dc\".format(product, page)\n",
    "        resp = requests.request(method='GET', url=url)\n",
    "        result = json.loads(resp.text)\n",
    "        if isinstance(result, dict) :\n",
    "            db[dbname1C].insert_one(result)\n",
    "        else :\n",
    "            db[dbname1C].insert_many(result)"
   ]
  },
  {
   "cell_type": "code",
   "execution_count": 9,
   "metadata": {
    "id": "E8mElhrmGUjI"
   },
   "outputs": [],
   "source": [
    "pchome('洗衣機', client['pchome'] , 'washingMachine')"
   ]
  },
  {
   "cell_type": "markdown",
   "metadata": {
    "id": "VAWy4XVZGUjJ"
   },
   "source": [
    "### 爬蟲：東森"
   ]
  },
  {
   "cell_type": "code",
   "execution_count": 10,
   "metadata": {
    "id": "y7vnjKCQREhv"
   },
   "outputs": [],
   "source": [
    "def etmall(product, dbname2, dbname2C):\n",
    "    dbname2.create_collection(dbname2C)\n",
    "    pages=100\n",
    "    for page in range(1,pages+1):\n",
    "        url='https://www.etmall.com.tw/Search/Get'\n",
    "        payload={\"keyword\":product,\"model[pageSize]\":48,\"page\":page}\n",
    "        headers={\"user-agent\": \"Mozilla/5.0 (Windows NT 10.0; Win64; x64) AppleWebKit/537.36 (KHTML, like Gecko) Chrome/96.0.4664.110 Safari/537.36\"}\n",
    "        resp = requests.request(method='POST', url=url, data=payload, headers=headers)\n",
    "        result=json.loads(resp.text)\n",
    "        if isinstance(result, dict) :\n",
    "            dbname2[dbname2C].insert_one(result)\n",
    "        else :\n",
    "            dbname2[dbname2C].insert_many(result)   "
   ]
  },
  {
   "cell_type": "code",
   "execution_count": 11,
   "metadata": {},
   "outputs": [],
   "source": [
    "etmall('洗衣機', client['etmall'], 'washingMachine')"
   ]
  },
  {
   "cell_type": "markdown",
   "metadata": {
    "id": "uzyvLyRmREhv"
   },
   "source": [
    "### 爬蟲：momo (用html爬)"
   ]
  },
  {
   "cell_type": "markdown",
   "metadata": {},
   "source": [
    "爬回來的字串要放進csv檔，先建立csv檔"
   ]
  },
  {
   "cell_type": "code",
   "execution_count": 17,
   "metadata": {},
   "outputs": [
    {
     "data": {
      "text/plain": [
       "1"
      ]
     },
     "execution_count": 17,
     "metadata": {},
     "output_type": "execute_result"
    }
   ],
   "source": [
    "def createCsv(item) :   \n",
    "    path_ = r'c:\\MOMOcsv'\n",
    "    if not os.path.exists(path_) :\n",
    "        os.mkdir(path_)\n",
    "\n",
    "    outf = open(path_ + r'\\{}.csv'.format(item), mode='at', encoding='utf-8') \n",
    "\n",
    "    outf.write('name')\n",
    "    outf.write(',')\n",
    "    outf.write('price')\n",
    "    outf.write('\\n')\n",
    "    return"
   ]
  },
  {
   "cell_type": "code",
   "execution_count": null,
   "metadata": {},
   "outputs": [],
   "source": [
    "createCsv('MOMOWashingMachine')"
   ]
  },
  {
   "cell_type": "code",
   "execution_count": 31,
   "metadata": {},
   "outputs": [],
   "source": [
    "def momo(keyowrd, page, item):\n",
    "    outf = open(path_ + r'\\{}.csv'.format(item), mode='at', encoding='utf-8')\n",
    "    headers = {'User-Agent': 'Mozilla/5.0 (Windows NT 10.0; Win64; x64) AppleWebKit/537.36 (KHTML, like Gecko) Chrome/81.0.4044.138 Safari/537.36'}\n",
    "\n",
    "    for page in range(1, pages):\n",
    "        url = 'https://m.momoshop.com.tw/search.momo?_advFirst=N&_advCp=N&curPage={}&searchType=1&cateLevel=2&ent=k&searchKeyword={}&_advThreeHours=N&_isFuzzy=0&_imgSH=fourCardType'.format(page, keyword)\n",
    "        resp = requests.get(url, headers=headers)\n",
    "        if resp.status_code == 200:\n",
    "            soup = BeautifulSoup(resp.text,'lxml')\n",
    "            for li in soup.select('.prdInfoWrap'):\n",
    "                outf.write(li.select_one('.prdName').text.strip())\n",
    "                outf.write(',')   \n",
    "                outf.write(li.select_one('.price').text.strip())\n",
    "                outf.write('\\n')\n",
    "    outf.close()\n",
    "    return "
   ]
  },
  {
   "cell_type": "code",
   "execution_count": 32,
   "metadata": {},
   "outputs": [],
   "source": [
    "momo('洗衣機', 32, 'MOMOWashingMachine')"
   ]
  },
  {
   "cell_type": "markdown",
   "metadata": {},
   "source": [
    "csv檔轉成json放進資料庫"
   ]
  },
  {
   "cell_type": "code",
   "execution_count": 33,
   "metadata": {
    "id": "M-dKfpQ8OAnt",
    "outputId": "c25c7795-ed44-4b45-9705-e72cfc6e67fe"
   },
   "outputs": [],
   "source": [
    "def csv2json(item):    \n",
    "    data = pd.read_csv(r'C:\\MOMOcsv\\{}.csv'.format(item),encoding = 'UTF-8')\n",
    "    data_json = json.loads(data.to_json(orient='records'))\n",
    "    db3 = client['momo']\n",
    "    db3.create_collection(item)\n",
    "    db3[item].insert_many(data_json)\n",
    "    return "
   ]
  },
  {
   "cell_type": "code",
   "execution_count": 34,
   "metadata": {},
   "outputs": [],
   "source": [
    "csv2json('MOMOWashingMachine')"
   ]
  },
  {
   "cell_type": "markdown",
   "metadata": {
    "id": "gL30rv3KGUjK"
   },
   "source": [
    "### 篩選資料 製作DataFrame"
   ]
  },
  {
   "cell_type": "code",
   "execution_count": 20,
   "metadata": {
    "id": "DWifRXs2GUjK"
   },
   "outputs": [],
   "source": [
    "def callEtmall(query, select, keyword1, keyword2):\n",
    "    NAME=[]\n",
    "    PRICE=[]\n",
    "    SALES=[]\n",
    "    for d in client['etmall'][select].find({'searchResult.products.formName':query}, {\"_id\":0, \"searchResult.products.title\":1, 'searchResult.products.marketingPrice':1, 'searchResult.products.finalPrice':1}):\n",
    "        for d2 in d.values():\n",
    "            for d3 in d2.values():\n",
    "                for number in range(len(d3)):\n",
    "                    if keyword1 in d3[number].get('title') and keyword2 in d3[number].get('title'):\n",
    "                        NAME.append(d3[number].get('title'))\n",
    "                        PRICE.append(d3[number].get('marketingPrice'))\n",
    "                        SALES.append(d3[number].get('finalPrice'))\n",
    "    intetmallfinalPrice= list(map(int,SALES))\n",
    "    df2 = pd.DataFrame({\"品項\":NAME, \"東森原價\":PRICE, \"東森售價\":intetmallfinalPrice}).drop_duplicates().sort_values(by=['東森售價'])\n",
    "    return df2"
   ]
  },
  {
   "cell_type": "code",
   "execution_count": 21,
   "metadata": {
    "id": "I-Grp5_vGUjL"
   },
   "outputs": [],
   "source": [
    "def callPchome (query, select, keyword1, keyword2):\n",
    "    NAME=[]\n",
    "    PRICE=[]\n",
    "    for d in client['pchome'][select].find({\"q\":\"{}\".format(query)}, {\"_id\":0, \"prods.name\":1, \"prods.price\":1}):\n",
    "        for d1 in d.values():\n",
    "            for number in range(len(d1)):\n",
    "                if keyword1 in d1[number].get('name') and keyword2 in d1[number].get('name') :\n",
    "                    NAME.append(d1[number].get('name'))\n",
    "                    PRICE.append(d1[number].get('price'))\n",
    "    intPchomePrice= list(map(int,PRICE))\n",
    "    df1 = pd.DataFrame({\"品項\":NAME, \"Pchome售價\":intPchomePrice}).drop_duplicates().sort_values(by=['Pchome售價'])\n",
    "    return df1"
   ]
  },
  {
   "cell_type": "code",
   "execution_count": 22,
   "metadata": {
    "id": "t9VFY4ImOAnv"
   },
   "outputs": [],
   "source": [
    "def callMOMO(select, keyword1, keyword2):\n",
    "    NAME=[]\n",
    "    PRICE=[]\n",
    "    for d in client['momo'][select].find():\n",
    "        if keyword1 in d.get('name') and keyword2 in d.get('name'):\n",
    "                NAME.append(d.get('name'))\n",
    "                PRICE.append(d.get('price'))\n",
    "    intmomoPrice= list(map(int,PRICE))\n",
    "    df3 = pd.DataFrame({\"品項\":NAME, \"momo售價\":intmomoPrice}).drop_duplicates().sort_values(by=['momo售價'])\n",
    "    return df3"
   ]
  },
  {
   "cell_type": "markdown",
   "metadata": {},
   "source": [
    "【國際牌直立洗衣機】Dataframe"
   ]
  },
  {
   "cell_type": "code",
   "execution_count": null,
   "metadata": {},
   "outputs": [],
   "source": [
    "df1 = callPchome(\"洗衣機\", \"washingMachine\", \"國際牌\", \"直立洗衣機\")\n",
    "df2 = callEtmall(\"洗衣機/脫水機/乾衣機\", \"washingMachine\", \"國際牌\", \"直立洗衣機\")\n",
    "df3 = callMOMO(\"washingMachine\", \"國際牌\", \"直立洗衣機\")\n",
    "pd.concat([df1, df2, df3], axis=1, join=\"outer\")"
   ]
  },
  {
   "cell_type": "markdown",
   "metadata": {},
   "source": [
    "【樂金滾筒洗衣機】Dataframe"
   ]
  },
  {
   "cell_type": "code",
   "execution_count": null,
   "metadata": {},
   "outputs": [],
   "source": [
    "df1 = callPchome(\"洗衣機\", \"washingMachine\", \"樂金\", \"滾筒洗衣機\")\n",
    "df2 = callEtmall(\"洗衣機/脫水機/乾衣機\", \"washingMachine\", \"樂金\", \"滾筒洗衣機\")\n",
    "df3 = callMOMO(\"washingMachine\", \"樂金\", \"滾筒洗衣機\")\n",
    "pd.concat([df1, df2,df3], axis=1, join=\"outer\")"
   ]
  },
  {
   "cell_type": "markdown",
   "metadata": {
    "id": "aJFlMSDVJuwn"
   },
   "source": [
    "### 製作長條圖:顯示三個購物網站的各自商品數量"
   ]
  },
  {
   "cell_type": "code",
   "execution_count": 23,
   "metadata": {
    "id": "s19j5tCYJuwn"
   },
   "outputs": [],
   "source": [
    "def callTotal(query,PchomeNameLen,EtmallNameLen,MomoNameLen):\n",
    "    shop = ['Pchome', 'ETmall', 'momo'] \n",
    "    plt.rcParams['font.sans-serif'] = ['Microsoft JhengHei'] #中文字體設定\n",
    "    plt.rcParams['axes.unicode_minus'] = False\n",
    "    shop_total_product = [len(df1.品項),len(df2.品項),len(df3.品項)]\n",
    "    x = np.arange(len(shop))\n",
    "    plt.xlabel('NAME')\n",
    "    plt.ylabel('Quantity')\n",
    "    plt.bar(x, shop_total_product, color=['red', 'green', 'blue'])\n",
    "    plt.xticks(x,shop)\n",
    "    plt.title(query) #變動處\n",
    "    plt.show()\n",
    "    return plt"
   ]
  },
  {
   "cell_type": "code",
   "execution_count": null,
   "metadata": {},
   "outputs": [],
   "source": [
    "callTotal(\"洗衣機/國際牌/直立洗衣機\",len(df1.品項),len(df2.品項),len(df3.品項))"
   ]
  },
  {
   "cell_type": "code",
   "execution_count": null,
   "metadata": {},
   "outputs": [],
   "source": [
    "callTotal(\"洗衣機/樂金/滾筒洗衣機\",len(df1.品項),len(df2.品項),len(df3.品項))"
   ]
  },
  {
   "cell_type": "markdown",
   "metadata": {
    "id": "x44j6anhOAn1"
   },
   "source": [
    "### 找出三大網站同樣商品做比較"
   ]
  },
  {
   "cell_type": "markdown",
   "metadata": {},
   "source": [
    "【洗衣機】"
   ]
  },
  {
   "cell_type": "code",
   "execution_count": null,
   "metadata": {
    "id": "lWySJxCFJuwz",
    "outputId": "98da0e50-cc39-424b-f9a2-2309f34f8c9c",
    "scrolled": true
   },
   "outputs": [
    {
     "data": {
      "text/html": [
       "<div>\n",
       "<style scoped>\n",
       "    .dataframe tbody tr th:only-of-type {\n",
       "        vertical-align: middle;\n",
       "    }\n",
       "\n",
       "    .dataframe tbody tr th {\n",
       "        vertical-align: top;\n",
       "    }\n",
       "\n",
       "    .dataframe thead th {\n",
       "        text-align: right;\n",
       "    }\n",
       "</style>\n",
       "<table border=\"1\" class=\"dataframe\">\n",
       "  <thead>\n",
       "    <tr style=\"text-align: right;\">\n",
       "      <th></th>\n",
       "      <th>品項</th>\n",
       "      <th>Pchome售價</th>\n",
       "      <th>品項</th>\n",
       "      <th>東森原價</th>\n",
       "      <th>東森售價</th>\n",
       "      <th>品項</th>\n",
       "      <th>momo售價</th>\n",
       "    </tr>\n",
       "  </thead>\n",
       "  <tbody>\n",
       "    <tr>\n",
       "      <th>0</th>\n",
       "      <td>Panasonic國際牌 ECO變頻15公斤直立洗衣機NA-V150GT-L</td>\n",
       "      <td>16900</td>\n",
       "      <td>Panasonic 國際牌 17公斤 變頻直立洗衣機(炫銀灰) NA-V170LT-L -庫(G)</td>\n",
       "      <td>21900</td>\n",
       "      <td>20805.0</td>\n",
       "      <td>1/4-15滿額登記送3%mo幣【Panasonic 國際牌】15公斤定頻直立洗衣機(NA1...</td>\n",
       "      <td>15548.0</td>\n",
       "    </tr>\n",
       "    <tr>\n",
       "      <th>1</th>\n",
       "      <td>Panasonic國際牌 智慧雙科技溫水20公斤直立洗衣機 NA-V200KBS-S</td>\n",
       "      <td>29155</td>\n",
       "      <td>Panasonic 國際牌 17公斤 變頻直立洗衣機(炫銀灰) NA-V170LT-L -庫(A)</td>\n",
       "      <td>21900</td>\n",
       "      <td>20805.0</td>\n",
       "      <td>【Panasonic 國際牌】13公斤定頻直立洗衣機(NA130LU/NA-130LU)</td>\n",
       "      <td>13708.0</td>\n",
       "    </tr>\n",
       "    <tr>\n",
       "      <th>2</th>\n",
       "      <td>Panasonic國際牌 ECO變頻15公斤直立洗衣機NA-V150LT-L</td>\n",
       "      <td>18905</td>\n",
       "      <td>Panasonic國際牌13公斤變頻直立洗衣機NA-V130GT-L-庫(G)</td>\n",
       "      <td>16900</td>\n",
       "      <td>16055.0</td>\n",
       "      <td>1/4-15滿額登記送3%mo幣【Panasonic 國際牌】14公斤直立洗衣機(NA-14...</td>\n",
       "      <td>14628.0</td>\n",
       "    </tr>\n",
       "    <tr>\n",
       "      <th>3</th>\n",
       "      <td>Panasonic國際牌 ECO變頻IOT智能17公斤直立洗衣機NA-V170LM-L</td>\n",
       "      <td>23655</td>\n",
       "      <td>Panasonic 國際牌 17公斤 變頻直立洗衣機(炫銀灰) NA-V170LT-L -庫</td>\n",
       "      <td>21900</td>\n",
       "      <td>20805.0</td>\n",
       "      <td>1/4-15滿額登記送3%mo幣【Panasonic 國際牌】17公斤變頻溫水直立洗衣機(N...</td>\n",
       "      <td>22908.0</td>\n",
       "    </tr>\n",
       "    <tr>\n",
       "      <th>4</th>\n",
       "      <td>Panasonic國際牌 ECO變頻13公斤直立洗衣機NA-V130GT-L</td>\n",
       "      <td>16055</td>\n",
       "      <td>Panasonic國際牌13公斤變頻直立洗衣機NA-V130GT-L(庫)(A)</td>\n",
       "      <td>16900</td>\n",
       "      <td>16055.0</td>\n",
       "      <td>1/4-15滿額登記送3%mo幣【Panasonic 國際牌】19公斤變頻直立洗衣機(NA-...</td>\n",
       "      <td>24748.0</td>\n",
       "    </tr>\n",
       "    <tr>\n",
       "      <th>5</th>\n",
       "      <td>Panasonic國際牌 ECO變頻IOT智能不銹鋼17公斤直立洗衣機NA-V170LMS-S</td>\n",
       "      <td>24605</td>\n",
       "      <td>NaN</td>\n",
       "      <td>NaN</td>\n",
       "      <td>NaN</td>\n",
       "      <td>1/4-15滿額登記送3%mo幣【Panasonic 國際牌】19公斤變頻直立洗衣機(NA-...</td>\n",
       "      <td>27315.0</td>\n",
       "    </tr>\n",
       "    <tr>\n",
       "      <th>6</th>\n",
       "      <td>Panasonic國際牌 ECO變頻窄身不銹鋼12公斤直立洗衣機NA-V120LBS-S</td>\n",
       "      <td>17005</td>\n",
       "      <td>NaN</td>\n",
       "      <td>NaN</td>\n",
       "      <td>NaN</td>\n",
       "      <td>1/4-15滿額登記送3%mo幣【Panasonic 國際牌】12公斤變頻直立洗衣機(NAV...</td>\n",
       "      <td>16468.0</td>\n",
       "    </tr>\n",
       "    <tr>\n",
       "      <th>7</th>\n",
       "      <td>Panasonic國際牌 ECO變頻窄身13公斤直立洗衣機NA-V130LB-L</td>\n",
       "      <td>17955</td>\n",
       "      <td>NaN</td>\n",
       "      <td>NaN</td>\n",
       "      <td>NaN</td>\n",
       "      <td>1/4-15滿額登記送3%mo幣【Panasonic 國際牌】14公斤定頻直立洗衣機(NA1...</td>\n",
       "      <td>14628.0</td>\n",
       "    </tr>\n",
       "    <tr>\n",
       "      <th>8</th>\n",
       "      <td>Panasonic國際牌 ECO變頻17公斤直立洗衣機NA-V170LT-L</td>\n",
       "      <td>20805</td>\n",
       "      <td>NaN</td>\n",
       "      <td>NaN</td>\n",
       "      <td>NaN</td>\n",
       "      <td>1/4-15滿額登記送3%mo幣【Panasonic 國際牌】20公斤變頻直立洗衣機(NA-...</td>\n",
       "      <td>28235.0</td>\n",
       "    </tr>\n",
       "    <tr>\n",
       "      <th>9</th>\n",
       "      <td>Panasonic國際牌 ECO變頻IOT智能不銹鋼15公斤直立洗衣機NA-V150LMS-S</td>\n",
       "      <td>22705</td>\n",
       "      <td>NaN</td>\n",
       "      <td>NaN</td>\n",
       "      <td>NaN</td>\n",
       "      <td>1/4-15滿額登記送3%mo幣【Panasonic 國際牌】21公斤變頻溫水直立洗衣機(N...</td>\n",
       "      <td>28428.0</td>\n",
       "    </tr>\n",
       "    <tr>\n",
       "      <th>10</th>\n",
       "      <td>Panasonic國際牌 定頻13公斤直立洗衣機NA-130LU-W</td>\n",
       "      <td>14155</td>\n",
       "      <td>NaN</td>\n",
       "      <td>NaN</td>\n",
       "      <td>NaN</td>\n",
       "      <td>1/4-15滿額登記送3%mo幣【Panasonic 國際牌】16公斤變頻溫水直立洗衣機(N...</td>\n",
       "      <td>21988.0</td>\n",
       "    </tr>\n",
       "    <tr>\n",
       "      <th>11</th>\n",
       "      <td>Panasonic國際牌 ECO變頻窄身不銹鋼11公斤直立洗衣機NA-V110LBS-S</td>\n",
       "      <td>16055</td>\n",
       "      <td>NaN</td>\n",
       "      <td>NaN</td>\n",
       "      <td>NaN</td>\n",
       "      <td>NaN</td>\n",
       "      <td>NaN</td>\n",
       "    </tr>\n",
       "    <tr>\n",
       "      <th>12</th>\n",
       "      <td>Panasonic國際牌 ECO變頻窄身不銹鋼13公斤直立洗衣機NA-V130LBS-S</td>\n",
       "      <td>18905</td>\n",
       "      <td>NaN</td>\n",
       "      <td>NaN</td>\n",
       "      <td>NaN</td>\n",
       "      <td>NaN</td>\n",
       "      <td>NaN</td>\n",
       "    </tr>\n",
       "    <tr>\n",
       "      <th>13</th>\n",
       "      <td>Panasonic國際牌 ECO變頻19公斤直立洗衣機NA-V190LT-L</td>\n",
       "      <td>22705</td>\n",
       "      <td>NaN</td>\n",
       "      <td>NaN</td>\n",
       "      <td>NaN</td>\n",
       "      <td>NaN</td>\n",
       "      <td>NaN</td>\n",
       "    </tr>\n",
       "    <tr>\n",
       "      <th>14</th>\n",
       "      <td>Panasonic國際牌 定頻14公斤直立洗衣機NA-140LU-W</td>\n",
       "      <td>15105</td>\n",
       "      <td>NaN</td>\n",
       "      <td>NaN</td>\n",
       "      <td>NaN</td>\n",
       "      <td>NaN</td>\n",
       "      <td>NaN</td>\n",
       "    </tr>\n",
       "    <tr>\n",
       "      <th>15</th>\n",
       "      <td>Panasonic國際牌 ECO變頻IOT智能不銹鋼22公斤直立洗衣機NA-V220LMS-S</td>\n",
       "      <td>30305</td>\n",
       "      <td>NaN</td>\n",
       "      <td>NaN</td>\n",
       "      <td>NaN</td>\n",
       "      <td>NaN</td>\n",
       "      <td>NaN</td>\n",
       "    </tr>\n",
       "    <tr>\n",
       "      <th>16</th>\n",
       "      <td>Panasonic國際牌 ECO變頻IOT智能19公斤直立洗衣機NA-V190LM-L</td>\n",
       "      <td>25555</td>\n",
       "      <td>NaN</td>\n",
       "      <td>NaN</td>\n",
       "      <td>NaN</td>\n",
       "      <td>NaN</td>\n",
       "      <td>NaN</td>\n",
       "    </tr>\n",
       "    <tr>\n",
       "      <th>17</th>\n",
       "      <td>Panasonic國際牌 ECO變頻IOT智能16公斤直立洗衣機NA-V160LM-L</td>\n",
       "      <td>22705</td>\n",
       "      <td>NaN</td>\n",
       "      <td>NaN</td>\n",
       "      <td>NaN</td>\n",
       "      <td>NaN</td>\n",
       "      <td>NaN</td>\n",
       "    </tr>\n",
       "    <tr>\n",
       "      <th>18</th>\n",
       "      <td>Panasonic國際牌 ECO變頻IOT智能不銹鋼16公斤直立洗衣機NA-V160LMS-S</td>\n",
       "      <td>23655</td>\n",
       "      <td>NaN</td>\n",
       "      <td>NaN</td>\n",
       "      <td>NaN</td>\n",
       "      <td>NaN</td>\n",
       "      <td>NaN</td>\n",
       "    </tr>\n",
       "  </tbody>\n",
       "</table>\n",
       "</div>"
      ],
      "text/plain": [
       "                                                 品項  Pchome售價  \\\n",
       "0            Panasonic國際牌 ECO變頻15公斤直立洗衣機NA-V150GT-L     16900   \n",
       "1        Panasonic國際牌 智慧雙科技溫水20公斤直立洗衣機 NA-V200KBS-S     29155   \n",
       "2            Panasonic國際牌 ECO變頻15公斤直立洗衣機NA-V150LT-L     18905   \n",
       "3       Panasonic國際牌 ECO變頻IOT智能17公斤直立洗衣機NA-V170LM-L     23655   \n",
       "4            Panasonic國際牌 ECO變頻13公斤直立洗衣機NA-V130GT-L     16055   \n",
       "5   Panasonic國際牌 ECO變頻IOT智能不銹鋼17公斤直立洗衣機NA-V170LMS-S     24605   \n",
       "6      Panasonic國際牌 ECO變頻窄身不銹鋼12公斤直立洗衣機NA-V120LBS-S     17005   \n",
       "7          Panasonic國際牌 ECO變頻窄身13公斤直立洗衣機NA-V130LB-L     17955   \n",
       "8            Panasonic國際牌 ECO變頻17公斤直立洗衣機NA-V170LT-L     20805   \n",
       "9   Panasonic國際牌 ECO變頻IOT智能不銹鋼15公斤直立洗衣機NA-V150LMS-S     22705   \n",
       "10               Panasonic國際牌 定頻13公斤直立洗衣機NA-130LU-W     14155   \n",
       "11     Panasonic國際牌 ECO變頻窄身不銹鋼11公斤直立洗衣機NA-V110LBS-S     16055   \n",
       "12     Panasonic國際牌 ECO變頻窄身不銹鋼13公斤直立洗衣機NA-V130LBS-S     18905   \n",
       "13           Panasonic國際牌 ECO變頻19公斤直立洗衣機NA-V190LT-L     22705   \n",
       "14               Panasonic國際牌 定頻14公斤直立洗衣機NA-140LU-W     15105   \n",
       "15  Panasonic國際牌 ECO變頻IOT智能不銹鋼22公斤直立洗衣機NA-V220LMS-S     30305   \n",
       "16      Panasonic國際牌 ECO變頻IOT智能19公斤直立洗衣機NA-V190LM-L     25555   \n",
       "17      Panasonic國際牌 ECO變頻IOT智能16公斤直立洗衣機NA-V160LM-L     22705   \n",
       "18  Panasonic國際牌 ECO變頻IOT智能不銹鋼16公斤直立洗衣機NA-V160LMS-S     23655   \n",
       "\n",
       "                                                   品項   東森原價     東森售價  \\\n",
       "0   Panasonic 國際牌 17公斤 變頻直立洗衣機(炫銀灰) NA-V170LT-L -庫(G)  21900  20805.0   \n",
       "1   Panasonic 國際牌 17公斤 變頻直立洗衣機(炫銀灰) NA-V170LT-L -庫(A)  21900  20805.0   \n",
       "2             Panasonic國際牌13公斤變頻直立洗衣機NA-V130GT-L-庫(G)  16900  16055.0   \n",
       "3      Panasonic 國際牌 17公斤 變頻直立洗衣機(炫銀灰) NA-V170LT-L -庫  21900  20805.0   \n",
       "4            Panasonic國際牌13公斤變頻直立洗衣機NA-V130GT-L(庫)(A)  16900  16055.0   \n",
       "5                                                 NaN    NaN      NaN   \n",
       "6                                                 NaN    NaN      NaN   \n",
       "7                                                 NaN    NaN      NaN   \n",
       "8                                                 NaN    NaN      NaN   \n",
       "9                                                 NaN    NaN      NaN   \n",
       "10                                                NaN    NaN      NaN   \n",
       "11                                                NaN    NaN      NaN   \n",
       "12                                                NaN    NaN      NaN   \n",
       "13                                                NaN    NaN      NaN   \n",
       "14                                                NaN    NaN      NaN   \n",
       "15                                                NaN    NaN      NaN   \n",
       "16                                                NaN    NaN      NaN   \n",
       "17                                                NaN    NaN      NaN   \n",
       "18                                                NaN    NaN      NaN   \n",
       "\n",
       "                                                   品項   momo售價  \n",
       "0   1/4-15滿額登記送3%mo幣【Panasonic 國際牌】15公斤定頻直立洗衣機(NA1...  15548.0  \n",
       "1        【Panasonic 國際牌】13公斤定頻直立洗衣機(NA130LU/NA-130LU)  13708.0  \n",
       "2   1/4-15滿額登記送3%mo幣【Panasonic 國際牌】14公斤直立洗衣機(NA-14...  14628.0  \n",
       "3   1/4-15滿額登記送3%mo幣【Panasonic 國際牌】17公斤變頻溫水直立洗衣機(N...  22908.0  \n",
       "4   1/4-15滿額登記送3%mo幣【Panasonic 國際牌】19公斤變頻直立洗衣機(NA-...  24748.0  \n",
       "5   1/4-15滿額登記送3%mo幣【Panasonic 國際牌】19公斤變頻直立洗衣機(NA-...  27315.0  \n",
       "6   1/4-15滿額登記送3%mo幣【Panasonic 國際牌】12公斤變頻直立洗衣機(NAV...  16468.0  \n",
       "7   1/4-15滿額登記送3%mo幣【Panasonic 國際牌】14公斤定頻直立洗衣機(NA1...  14628.0  \n",
       "8   1/4-15滿額登記送3%mo幣【Panasonic 國際牌】20公斤變頻直立洗衣機(NA-...  28235.0  \n",
       "9   1/4-15滿額登記送3%mo幣【Panasonic 國際牌】21公斤變頻溫水直立洗衣機(N...  28428.0  \n",
       "10  1/4-15滿額登記送3%mo幣【Panasonic 國際牌】16公斤變頻溫水直立洗衣機(N...  21988.0  \n",
       "11                                                NaN      NaN  \n",
       "12                                                NaN      NaN  \n",
       "13                                                NaN      NaN  \n",
       "14                                                NaN      NaN  \n",
       "15                                                NaN      NaN  \n",
       "16                                                NaN      NaN  \n",
       "17                                                NaN      NaN  \n",
       "18                                                NaN      NaN  "
      ]
     },
     "execution_count": 64,
     "metadata": {},
     "output_type": "execute_result"
    }
   ],
   "source": [
    "df1 = callPchome(\"洗衣機\", \"washingMachine\", \"國際牌\", \"直立洗衣機\")\n",
    "df2 = callEtmall(\"洗衣機/脫水機/乾衣機\", \"washingMachine\", \"國際牌\", \"直立洗衣機\")\n",
    "df3 = callMOMO(\"washingMachine\", \"國際牌\", \"直立洗衣機\")\n",
    "pd.concat([df1, df2, df3], axis=1, join=\"outer\")"
   ]
  },
  {
   "cell_type": "code",
   "execution_count": null,
   "metadata": {
    "id": "DiXtmRRAJuw0"
   },
   "outputs": [],
   "source": [
    "getPchomeName =list(df1.品項)\n",
    "getPchomePrice =list(df1.Pchome售價)\n",
    "\n",
    "getEtmallName =list(df2.品項)\n",
    "getEtmallPrice =list(df2.東森原價)\n",
    "getEtmallPrice2 =list(df2.東森售價)\n",
    "\n",
    "getMomoName =list(df3.品項)\n",
    "getMomoPrice =list(df3.momo售價)\n",
    "\n",
    "k =[]\n",
    "for i in range(len(getPchomeName)):\n",
    "    k.append(getPchomeName[i].split(\"機\", 1))\n",
    "\n",
    "getPrice =[]\n",
    "getPrice2 =[]\n",
    "getName =[]\n",
    "getSameSize =[]\n",
    "# print(len(k))\n",
    "# print(len(getMomoName))\n",
    "\n",
    "for i in range(len(k)):\n",
    "    for j in range(len(getMomoName)):\n",
    "        if k[i][1] in getMomoName[j]:\n",
    "            getPrice.append(getPchomePrice[i])   \n",
    "            getName.append(k[i][0])\n",
    "            getPrice2.append(getMomoPrice[j])\n",
    "            getSameSize.append(k[i][1])\n",
    "\n",
    "getPrice3 =[]\n",
    "getName3 =[]\n",
    "for i in range(len(getSameSize)):\n",
    "    for j in range(len(getEtmallName)):\n",
    "        if getSameSize[i] in getEtmallName[j]:\n",
    "            getPrice3.append(getEtmallPrice2[j]) \n",
    "            getName3.append(getEtmallName[j])\n",
    "\n",
    "getName4  =[]            \n",
    "for i in range(len(k)):\n",
    "    for j in range(len(getName3)):\n",
    "        if k[i][1] in getName3[j]:\n",
    "            getName4.append(k[i][0])\n",
    "\n",
    "frame_ =pd.DataFrame({\"品項\":getName, \"Pchome售價\":getPrice})\n",
    "frame_2 =pd.DataFrame({\"品項\":getName4, \"東森售價\":getPrice3})\n",
    "frame_3 =pd.DataFrame({\"品項\":getName, \"momo售價\":getPrice2})"
   ]
  },
  {
   "cell_type": "code",
   "execution_count": null,
   "metadata": {
    "id": "HcRNeCGdJuw0",
    "outputId": "3f7b8c2d-a220-4cb5-c25f-41ca352eadf1"
   },
   "outputs": [
    {
     "data": {
      "image/png": "[encoded data removed]",
      "text/plain": [
       "<Figure size 432x288 with 1 Axes>"
      ]
     },
     "metadata": {
      "needs_background": "light"
     },
     "output_type": "display_data"
    }
   ],
   "source": [
    "plt.rcParams['font.sans-serif'] = ['Microsoft JhengHei'] \n",
    "plt.rcParams['axes.unicode_minus'] = False\n",
    "\n",
    "plt.plot(frame_.品項, frame_.Pchome售價, 'b', marker ='^', label='Pchome')\n",
    "plt.plot(frame_2.品項, frame_2.東森售價, 'r', marker ='^', label='Etmall')\n",
    "plt.plot(frame_3.品項, frame_3.momo售價, 'y', marker ='^', label='Momo')\n",
    "plt.xlabel('NAME')\n",
    "plt.ylabel('price')\n",
    "plt.xticks(frame_.品項,rotation='vertical')\n",
    "plt.title('PChome售價 vs 東森售價 vs MOMO售價')\n",
    "plt.legend(loc = 'lower left')\n",
    "\n",
    "plt.show()"
   ]
  }
 ],
 "metadata": {
  "colab": {
   "name": "Final期末專題-最後版.ipynb",
   "provenance": []
  },
  "kernelspec": {
   "display_name": "Python 3",
   "language": "python",
   "name": "python3"
  },
  "language_info": {
   "codemirror_mode": {
    "name": "ipython",
    "version": 3
   },
   "file_extension": ".py",
   "mimetype": "text/x-python",
   "name": "python",
   "nbconvert_exporter": "python",
   "pygments_lexer": "ipython3",
   "version": "3.8.5"
  }
 },
 "nbformat": 4,
 "nbformat_minor": 1
}
